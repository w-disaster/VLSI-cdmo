{
 "cells": [
  {
   "cell_type": "code",
   "execution_count": 1,
   "id": "d5e40bb8",
   "metadata": {},
   "outputs": [
    {
     "name": "stdout",
     "output_type": "stream",
     "text": [
      "Defaulting to user installation because normal site-packages is not writeable\n",
      "Requirement already satisfied: z3-solver in /home/luca/.local/lib/python3.8/site-packages (4.8.17.0)\n",
      "\u001b[33mWARNING: You are using pip version 22.0.4; however, version 22.1.2 is available.\n",
      "You should consider upgrading via the '/usr/bin/python3 -m pip install --upgrade pip' command.\u001b[0m\u001b[33m\n",
      "\u001b[0m"
     ]
    }
   ],
   "source": [
    "!pip install z3-solver"
   ]
  },
  {
   "cell_type": "code",
   "execution_count": 2,
   "id": "0e3adb34",
   "metadata": {},
   "outputs": [],
   "source": [
    "from z3 import *\n",
    "from itertools import combinations"
   ]
  },
  {
   "cell_type": "code",
   "execution_count": 3,
   "id": "a00c8c81",
   "metadata": {},
   "outputs": [],
   "source": [
    "instances_path = \"../../instances/\"\n",
    "with open(instances_path + \"ins-10.txt\") as f:\n",
    "    lines = [f[:-1] for f in f.readlines()]\n",
    "    w, n = int(lines[0]), int(lines[1])\n",
    "    b = [d.split() for d in lines[2:]]\n",
    "    b = [(int(bw), int(bh)) for (bw, bh) in b]"
   ]
  },
  {
   "cell_type": "code",
   "execution_count": 4,
   "id": "16eeb127",
   "metadata": {},
   "outputs": [],
   "source": [
    "def at_least_one_np(bool_vars):\n",
    "    return Or(bool_vars)\n",
    "\n",
    "def at_most_one_np(bool_vars, name = \"\"):\n",
    "    return [Not(And(pair[0], pair[1])) for pair in combinations(bool_vars, 2)]\n",
    "\n",
    "def exactly_one_np(bool_vars, name = \"\"):\n",
    "    return And(at_least_one_np(bool_vars), And(at_most_one_np(bool_vars, name)))"
   ]
  },
  {
   "cell_type": "code",
   "execution_count": 5,
   "id": "50ab0869",
   "metadata": {},
   "outputs": [],
   "source": [
    "def toBinary(num, length = None):\n",
    "    num_bin = bin(num).split(\"b\")[-1]\n",
    "    if length:\n",
    "        return \"0\"*(length - len(num_bin)) + num_bin\n",
    "    return num_bin\n",
    "    \n",
    "def at_least_one_bw(bool_vars):\n",
    "    return at_least_one_np(bool_vars)\n",
    "\n",
    "def at_most_one_bw(bool_vars, name):\n",
    "    constraints = []\n",
    "    n = len(bool_vars)\n",
    "    m = math.ceil(math.log2(n))\n",
    "    r = [Bool(f\"r_{name}_{i}\") for i in range(m)]\n",
    "    binaries = [toBinary(i, m) for i in range(n)]\n",
    "    for i in range(n):\n",
    "        for j in range(m):\n",
    "            phi = Not(r[j])\n",
    "            if binaries[i][j] == \"1\":\n",
    "                phi = r[j]\n",
    "            constraints.append(Or(Not(bool_vars[i]), phi))        \n",
    "    return And(constraints)\n",
    "\n",
    "def exactly_one_bw(bool_vars, name=\"\"):\n",
    "    return And(at_least_one_bw(bool_vars), at_most_one_bw(bool_vars, name)) "
   ]
  },
  {
   "cell_type": "code",
   "execution_count": 6,
   "id": "a39b9b2d",
   "metadata": {},
   "outputs": [],
   "source": [
    "def at_least_one_he(bool_vars):\n",
    "    return at_least_one_np(bool_vars)\n",
    "\n",
    "def at_most_one_he(bool_vars, name):\n",
    "    if len(bool_vars) <= 4:\n",
    "        return And(at_most_one_np(bool_vars))\n",
    "    y = Bool(f\"y_{name}\")\n",
    "    return And(And(at_most_one_np(bool_vars[:3] + [y])), And(at_most_one_he(bool_vars[3:] + [Not(y)], name+\"_\")))\n",
    "\n",
    "def exactly_one_he(bool_vars, name=\"\"):\n",
    "    return And(at_most_one_he(bool_vars, name), at_least_one_he(bool_vars))"
   ]
  },
  {
   "cell_type": "markdown",
   "id": "09704bae",
   "metadata": {},
   "source": [
    "### Parameters\n",
    "- $n$ number of blocks\n",
    "- $B_i$, $i = 0, ..., n-1$ blocks to insert where $B_i = \\{x_i, y_i\\}$ are the dimensions of the $i$-block, weight and height respectively\n",
    "- width $w$\n",
    "- ```rot = True``` if rotation is allowed "
   ]
  },
  {
   "cell_type": "markdown",
   "id": "4339f7eb",
   "metadata": {},
   "source": [
    "### Constraints:\n",
    "- The blocks in the grid can't overlap (exactly one value for each cell). $\\sum_{k=0}^{n}(\\texttt{cells}_{i,j,k}) \\leq 1 \\land \\sum_{k=0}^{n}(\\texttt{cells}_{i,j,k}) \\geq 1$ $\\forall i,j=0,...,n-1 $\n",
    "- The cell $\\texttt{cells}_{i, j}$ is the bottom left border of one block and its surrounding cells must have the same $k$ value. Moreover, inserting a block mustn't enlarge the width $w$. $\\texttt{exactly_one} \\Big[ \\huge{\\land_{\\small r=i}^{\\small i+y_k} \\land_{\\small c=j}^{\\small j+x_k}}$ $\\Big( \\texttt{cells}_{r,c,k} \\land (j+x_k<w)  \\land (i+y_k<h) \\Big)$ $\\forall i,j=0,\\dots...,n-1 \\Big]$ $\\forall k=0,...,n$"
   ]
  },
  {
   "cell_type": "code",
   "execution_count": 7,
   "id": "d3e86485",
   "metadata": {},
   "outputs": [],
   "source": [
    "def vlsi_sat(n, b, w, rot=False):\n",
    "    # - Each cell assumes a value between 0 and n (included), where the 0-value\n",
    "    #        means that no block is inserted in that cell\n",
    "    # - the height of the grid is the sum of the height of the blocks\n",
    "    \n",
    "    #b = [(1, 1)] + b\n",
    "    h = sum([bh for (bw, bh) in b])\n",
    "\n",
    "    # cells[i][j] : cell of row i and column j\n",
    "    cells = [[[Bool(f\"cells_{i}_{j}_{k}\") for k in range(n + 1)] for j in range(w)] \n",
    "         for i in range(h)]\n",
    "    is_in_block = [[Bool(f\"b_{i}_{j}\") for j in range(w)] for i in range(h)]\n",
    "    \n",
    "    s = Solver()\n",
    "    # Each cell must contain a value only, corresponding to the block \n",
    "    # number e.g. the blocks can't overlap.\n",
    "    for i in range(h):\n",
    "        for j in range(w):\n",
    "            s.add(exactly_one_he([cells[i][j][k] for k in range(n + 1)]))\n",
    "\n",
    "    # Each block must occur exactly once\n",
    "    cnst_tmp = []\n",
    "    for k in range(n):\n",
    "        (x, y) = b[k]\n",
    "        cnst = []\n",
    "        for i in range(h):\n",
    "            for j in range(w):\n",
    "                if j + x < w and i + y < h:\n",
    "                    block = [cells[r][c][k] \n",
    "                             for r in range(i, i + y) for c in range(j, j + x)]\n",
    "                    cnst.append(And(block))\n",
    "                    \n",
    "                    cnst_tmp.append(Implies(And(block), And([is_in_block[r][c] == True\n",
    "                      for r in range(i, i + y) for c in range(j, j + x)])))\n",
    "                    \n",
    "                else:\n",
    "                    cnst.append(False)\n",
    "        s.add(exactly_one_he([cc for cc in cnst]))\n",
    "    s.add(cnst_tmp)\n",
    "    #o = Optimize()\n",
    "    \n",
    "    # Check if it's SAT\n",
    "    s.check()\n",
    "    if s.check() == sat:\n",
    "        m = s.model()\n",
    "        return [(i, j, k) for i in range(h) for j in range(w) \n",
    "                for k in range(n + 1) if m.evaluate(cells[i][j][k])]\n",
    "    return \"UNSAT\""
   ]
  },
  {
   "cell_type": "code",
   "execution_count": 8,
   "id": "c7ca2bf6",
   "metadata": {},
   "outputs": [
    {
     "name": "stdout",
     "output_type": "stream",
     "text": [
      "CPU times: user 48.7 s, sys: 78.9 ms, total: 48.7 s\n",
      "Wall time: 48.8 s\n"
     ]
    }
   ],
   "source": [
    "%%time\n",
    "sol = vlsi_sat(n, b, w)"
   ]
  },
  {
   "cell_type": "code",
   "execution_count": 9,
   "id": "fe228cf4",
   "metadata": {},
   "outputs": [
    {
     "data": {
      "text/plain": [
       "'UNSAT'"
      ]
     },
     "execution_count": 9,
     "metadata": {},
     "output_type": "execute_result"
    }
   ],
   "source": [
    "sol"
   ]
  },
  {
   "cell_type": "code",
   "execution_count": 10,
   "id": "beef1689",
   "metadata": {},
   "outputs": [
    {
     "ename": "IndexError",
     "evalue": "string index out of range",
     "output_type": "error",
     "traceback": [
      "\u001b[0;31m---------------------------------------------------------------------------\u001b[0m",
      "\u001b[0;31mIndexError\u001b[0m                                Traceback (most recent call last)",
      "\u001b[0;32m/tmp/ipykernel_30540/1361028819.py\u001b[0m in \u001b[0;36m<module>\u001b[0;34m\u001b[0m\n\u001b[1;32m      9\u001b[0m     \u001b[0mM\u001b[0m\u001b[0;34m.\u001b[0m\u001b[0mappend\u001b[0m\u001b[0;34m(\u001b[0m\u001b[0;34m[\u001b[0m\u001b[0;34m]\u001b[0m\u001b[0;34m)\u001b[0m\u001b[0;34m\u001b[0m\u001b[0;34m\u001b[0m\u001b[0m\n\u001b[1;32m     10\u001b[0m     \u001b[0;32mfor\u001b[0m \u001b[0mj\u001b[0m \u001b[0;32min\u001b[0m \u001b[0mrange\u001b[0m\u001b[0;34m(\u001b[0m\u001b[0mdim\u001b[0m\u001b[0;34m[\u001b[0m\u001b[0;36m1\u001b[0m\u001b[0;34m]\u001b[0m\u001b[0;34m)\u001b[0m\u001b[0;34m:\u001b[0m\u001b[0;34m\u001b[0m\u001b[0;34m\u001b[0m\u001b[0m\n\u001b[0;32m---> 11\u001b[0;31m         \u001b[0mM\u001b[0m\u001b[0;34m[\u001b[0m\u001b[0mi\u001b[0m\u001b[0;34m]\u001b[0m\u001b[0;34m.\u001b[0m\u001b[0mappend\u001b[0m\u001b[0;34m(\u001b[0m\u001b[0msol\u001b[0m\u001b[0;34m[\u001b[0m\u001b[0mi\u001b[0m \u001b[0;34m*\u001b[0m \u001b[0mw\u001b[0m \u001b[0;34m+\u001b[0m \u001b[0mj\u001b[0m\u001b[0;34m]\u001b[0m\u001b[0;34m[\u001b[0m\u001b[0;36m2\u001b[0m\u001b[0;34m]\u001b[0m\u001b[0;34m)\u001b[0m\u001b[0;34m\u001b[0m\u001b[0;34m\u001b[0m\u001b[0m\n\u001b[0m\u001b[1;32m     12\u001b[0m \u001b[0;34m\u001b[0m\u001b[0m\n\u001b[1;32m     13\u001b[0m \u001b[0max\u001b[0m\u001b[0;34m.\u001b[0m\u001b[0mmatshow\u001b[0m\u001b[0;34m(\u001b[0m\u001b[0mM\u001b[0m\u001b[0;34m,\u001b[0m \u001b[0mcmap\u001b[0m\u001b[0;34m=\u001b[0m\u001b[0mplt\u001b[0m\u001b[0;34m.\u001b[0m\u001b[0mget_cmap\u001b[0m\u001b[0;34m(\u001b[0m\u001b[0;34m'plasma'\u001b[0m\u001b[0;34m)\u001b[0m\u001b[0;34m)\u001b[0m\u001b[0;34m\u001b[0m\u001b[0;34m\u001b[0m\u001b[0m\n",
      "\u001b[0;31mIndexError\u001b[0m: string index out of range"
     ]
    },
    {
     "data": {
      "image/png": "[encoded data removed]",
      "text/plain": [
       "<Figure size 720x720 with 1 Axes>"
      ]
     },
     "metadata": {
      "needs_background": "light"
     },
     "output_type": "display_data"
    }
   ],
   "source": [
    "import numpy as np\n",
    "import matplotlib.pyplot as plt\n",
    "\n",
    "fig, ax = plt.subplots(figsize=(10, 10))\n",
    "\n",
    "dim = (76, w)\n",
    "M = []\n",
    "for i in range(dim[0]):\n",
    "    M.append([])\n",
    "    for j in range(dim[1]):\n",
    "        M[i].append(sol[i * w + j][2])\n",
    "\n",
    "ax.matshow(M, cmap=plt.get_cmap('plasma'))"
   ]
  },
  {
   "cell_type": "code",
   "execution_count": null,
   "id": "34e6527d",
   "metadata": {},
   "outputs": [],
   "source": []
  }
 ],
 "metadata": {
  "kernelspec": {
   "display_name": "Python 3 (ipykernel)",
   "language": "python",
   "name": "python3"
  },
  "language_info": {
   "codemirror_mode": {
    "name": "ipython",
    "version": 3
   },
   "file_extension": ".py",
   "mimetype": "text/x-python",
   "name": "python",
   "nbconvert_exporter": "python",
   "pygments_lexer": "ipython3",
   "version": "3.8.10"
  }
 },
 "nbformat": 4,
 "nbformat_minor": 5
}
