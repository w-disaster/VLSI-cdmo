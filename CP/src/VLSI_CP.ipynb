{
 "cells": [
  {
   "cell_type": "code",
   "execution_count": null,
   "metadata": {},
   "outputs": [],
   "source": [
    "from solver.VLSI_CP import *\n",
    "from utils.plot_plate import *\n",
    "from utils.read_instance_write_sol import *\n",
    "from time import time"
   ]
  },
  {
   "cell_type": "code",
   "execution_count": null,
   "metadata": {},
   "outputs": [],
   "source": [
    "INSTANCES_REL_PATH = \"../../instances/\"\n",
    "OUT_FILE_REL_PATH = \"../out/\""
   ]
  },
  {
   "cell_type": "code",
   "execution_count": null,
   "metadata": {},
   "outputs": [],
   "source": [
    "def solve_all_instances(rot):\n",
    "    n_instances = 40\n",
    "    # All but the last instance\n",
    "    for i in range(1, n_instances):\n",
    "        plate = instance_to_plate(INSTANCES_REL_PATH + \"ins-\" + str(i) + \".txt\")\n",
    "        start_time = time()\n",
    "\n",
    "        # Solve VLSI\n",
    "        plate = solver(plate, rot).solve_vlsi()\n",
    "        print(\"Instance n. {}\".format(i))\n",
    "        print(\"Elapsed time: {}, plate dim (w, h) = ({}, {})\"\n",
    "                    .format(time() - start_time, plate.get_dim()[0], \n",
    "                        plate.get_dim()[1]))\n",
    "        plate_to_solution(OUT_FILE_REL_PATH + \"ins-\" + str(i) + \".txt\", plate)\n",
    "        plot_plate(plate, i)"
   ]
  },
  {
   "cell_type": "code",
   "execution_count": null,
   "metadata": {},
   "outputs": [],
   "source": [
    "solver = VLSI_CP\n",
    "solve_all_instances(False)"
   ]
  },
  {
   "cell_type": "code",
   "execution_count": null,
   "metadata": {},
   "outputs": [],
   "source": [
    "solve_all_instances(True)"
   ]
  }
 ],
 "metadata": {
  "kernelspec": {
   "display_name": "Python 3",
   "language": "python",
   "name": "python3"
  },
  "language_info": {
   "codemirror_mode": {
    "name": "ipython",
    "version": 3
   },
   "file_extension": ".py",
   "mimetype": "text/x-python",
   "name": "python",
   "nbconvert_exporter": "python",
   "pygments_lexer": "ipython3",
   "version": "3.6.9"
  }
 },
 "nbformat": 4,
 "nbformat_minor": 5
}
