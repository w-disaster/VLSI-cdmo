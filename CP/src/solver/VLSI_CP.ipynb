{
 "cells": [
  {
   "cell_type": "code",
   "execution_count": null,
   "id": "008d0b45",
   "metadata": {},
   "outputs": [],
   "source": [
    "#!/usr/bin/python3\n",
    "import minizinc\n",
    "from minizinc import *\n",
    "from model.VLSISolver import *\n",
    "from model.Plate import *\n",
    "from math import floor, ceil\n",
    "import numpy as np\n",
    "\n",
    "class VLSI_LP(VLSISolver):\n",
    "    def __init__(self, plate: Plate):\n",
    "        self.plate = plate\n",
    "        (self.n, (self.w,), cs) = (plate.get_n(), plate.get_dim(), plate.get_circuits())\n",
    "\n",
    "        self.csw, self.csh = [], []\n",
    "        for i in range(self.n):\n",
    "            self.csw.append(cs[i].get_dim()[0])\n",
    "            self.csh.append(cs[i].get_dim()[1])\n",
    "       \n",
    "    def compute_lower_upper_bound(self, csw, csh, w, n):                                                            \n",
    "        max_x, max_y = max(csw), max(csh)\n",
    "        max_block_per_w = floor(w / max_x)      \n",
    "        h_max = ceil(n * max_y / max_block_per_w)\n",
    "        h_min = max_y \n",
    "        return (h_min, h_max)\n",
    "\n",
    "    def solve_vlsi(self) -> Plate:\n",
    "        (self.h_min, self.h_max) = self.compute_lower_upper_bound(self.csw, \n",
    "                self.csh, self.w, self.n)\n",
    "\n",
    "        #CP\n",
    "        model = Model(\"./model.mzn\")\n",
    "        solver = Solver.lookup(\"chuffed\")\n",
    "        \n",
    "        instance = Instance(solver, model)\n",
    "        result = instance.solve()\n",
    "        \n",
    "        \n",
    "        self.plate.set_dim((self.result[\"width\"], result[\"height\"])\n",
    "        for i in range(self.n):\n",
    "            self.plate.get_circuit(i).set_coordinate((result['x['+i+']'], result['y['+i+']']))\n",
    "        \n",
    "        return self.plate"
   ]
  }
 ],
 "metadata": {
  "kernelspec": {
   "display_name": "Python 3 (ipykernel)",
   "language": "python",
   "name": "python3"
  },
  "language_info": {
   "codemirror_mode": {
    "name": "ipython",
    "version": 3
   },
   "file_extension": ".py",
   "mimetype": "text/x-python",
   "name": "python",
   "nbconvert_exporter": "python",
   "pygments_lexer": "ipython3",
   "version": "3.9.7"
  }
 },
 "nbformat": 4,
 "nbformat_minor": 5
}
