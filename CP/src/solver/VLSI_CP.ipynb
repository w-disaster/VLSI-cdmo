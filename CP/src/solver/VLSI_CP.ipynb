{
 "cells": [
  {
   "cell_type": "code",
   "execution_count": null,
   "id": "c53f0aa9",
   "metadata": {},
   "outputs": [],
   "source": [
    "#!/usr/bin/python3\n",
    "import minizinc\n",
    "from minizinc import *\n",
    "from model.Strategy import *\n",
    "from model.Plate import *\n",
    "from math import floor, ceil\n",
    "import numpy as np\n",
    "\n",
    "class VLSI_CP(Strategy):\n",
    "    def solve_vlsi(self, plate: Plate) -> Plate:\n",
    "        (n, (w,), cs) = (plate.get_n(), plate.get_dim(), plate.get_circuits())\n",
    "        \n",
    "        csw, csh = [], []\n",
    "        for i in range(n):\n",
    "            csw.append(cs[i].get_dim()[0])\n",
    "            csh.append(cs[i].get_dim()[1])\n",
    "\n",
    "        # Define upperbound and lowerbound                           \n",
    "        max_x, max_y = max(csw), max(csh)\n",
    "\n",
    "        max_block_per_w = floor(w / max_x)      \n",
    "        A = sum([csw[i] * csh[i] for i in range(n)])\n",
    "        h_max = ceil(n * max_y / max_block_per_w) + 2\n",
    "        h_min = max(ceil(A / w), max_y) \n",
    "\n",
    "        #CP\n",
    "        model = Model(\"./model.mzn\")\n",
    "        solver = Solver.lookup(\"chuffed\")\n",
    "        \n",
    "        instance = Instance(solver, model)\n",
    "        result = instance.solve()\n",
    "        \n",
    "        plate.set_dim((result[\"width\"], result[\"height\"])\n",
    "        for i in range(n):\n",
    "            plate.get_circuit(i).set_coordinate((result['x['+i+']'], result['y['+i+']']))\n",
    "        \n",
    "        return plate"
   ]
  }
 ],
 "metadata": {
  "kernelspec": {
   "display_name": "Python 3 (ipykernel)",
   "language": "python",
   "name": "python3"
  },
  "language_info": {
   "codemirror_mode": {
    "name": "ipython",
    "version": 3
   },
   "file_extension": ".py",
   "mimetype": "text/x-python",
   "name": "python",
   "nbconvert_exporter": "python",
   "pygments_lexer": "ipython3",
   "version": "3.9.7"
  }
 },
 "nbformat": 4,
 "nbformat_minor": 5
}
