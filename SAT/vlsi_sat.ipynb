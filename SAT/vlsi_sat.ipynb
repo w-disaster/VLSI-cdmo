{
 "cells": [
  {
   "cell_type": "code",
   "execution_count": 1,
   "id": "0e3adb34",
   "metadata": {},
   "outputs": [],
   "source": [
    "from z3 import *"
   ]
  },
  {
   "cell_type": "code",
   "execution_count": 3,
   "id": "16eeb127",
   "metadata": {},
   "outputs": [],
   "source": [
    "def at_least_one(bool_vars):\n",
    "    return Or(bool_vars)\n",
    "\n",
    "def at_most_one(bool_vars):\n",
    "    return [Not(And(pair[0], pair[1])) for pair in combinations(bool_vars, 2)]\n",
    "\n",
    "def exactly_one(bool_vars):\n",
    "    return at_most_one(bool_vars) + [at_least_one(bool_vars)]"
   ]
  },
  {
   "cell_type": "markdown",
   "id": "09704bae",
   "metadata": {},
   "source": [
    "### Parameters\n",
    "- $n$ number of blocks\n",
    "- $B_i$, $i = 0, ..., n-1$ blocks to insert where $B_i = \\{x_i, y_i\\}$ are the dimensions of the $i$-block, weight and height respectively\n",
    "- width $w$\n",
    "- ```rot = True``` if rotation is allowed "
   ]
  },
  {
   "cell_type": "markdown",
   "id": "4339f7eb",
   "metadata": {},
   "source": [
    "$\\huge{\\lor_{\\small k=0}^{\\small n-1}} \\huge{\\land_{\\small r=i}^{\\small i+y_k} \\land_{\\small c=j}^{\\small j+x_k}}$ $\\Big( \\texttt{cells}_{r,c,k} = 1 \\land (i+y_k < n) \\land (j+x_k<n) \\Big)$ $\\forall i,j=0,...,n-1 $"
   ]
  },
  {
   "cell_type": "code",
   "execution_count": 4,
   "id": "d3e86485",
   "metadata": {},
   "outputs": [],
   "source": [
    "def vlsi_sat(n, b, w, rot=False):\n",
    "    ''' - Each cell assumes a value between 0 and n (included), where the 0-value\n",
    "            means that no block is inserted in that cell\n",
    "        - the height of the grid is the sum of the height of the blocks\n",
    "    '''\n",
    "    h = sum([bh for (bw, bh) in b])\n",
    "    # cells[i][j] : cell of row i and column j\n",
    "    cells = [[[Bool(f\"c_{i}_{j}_{k}\") for k in range(n + 1)] for j in range(w)] \n",
    "         for i in range(h)]\n",
    "    \n",
    "    s = Solver()\n",
    "    # Each cell must contain a value only, corresponding to the block \n",
    "    # number e.g. the blocks can't overlap.\n",
    "    for i in range(h):\n",
    "        for j in range(w):\n",
    "            s.add(exactly_one([cells[i][j][k] for k in range(n + 1)]))\n",
    "\n",
    "    for i in range(h):\n",
    "        for j in range(w):\n",
    "            \n",
    "            for k in range(n):\n",
    "                for r in range(i, i + b[k][1]):\n",
    "                    for c in range(j + b[k][0]):\n",
    "                        cnst += And(exactly_one(cells[r][c][k]), r < n, c < n)\n",
    "                    cnst = And(cnst)\n",
    "                cnst(Or(cnst))"
   ]
  }
 ],
 "metadata": {
  "kernelspec": {
   "display_name": "Python 3 (ipykernel)",
   "language": "python",
   "name": "python3"
  },
  "language_info": {
   "codemirror_mode": {
    "name": "ipython",
    "version": 3
   },
   "file_extension": ".py",
   "mimetype": "text/x-python",
   "name": "python",
   "nbconvert_exporter": "python",
   "pygments_lexer": "ipython3",
   "version": "3.8.10"
  }
 },
 "nbformat": 4,
 "nbformat_minor": 5
}
