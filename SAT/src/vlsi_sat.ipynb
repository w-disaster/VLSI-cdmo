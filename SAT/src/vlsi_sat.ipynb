{
 "cells": [
  {
   "cell_type": "code",
   "execution_count": 178,
   "id": "d5e40bb8",
   "metadata": {},
   "outputs": [
    {
     "name": "stdout",
     "output_type": "stream",
     "text": [
      "Defaulting to user installation because normal site-packages is not writeable\n",
      "Requirement already satisfied: z3-solver in /home/luca/.local/lib/python3.8/site-packages (4.8.17.0)\n",
      "\u001b[33mWARNING: You are using pip version 22.0.4; however, version 22.1.2 is available.\n",
      "You should consider upgrading via the '/usr/bin/python3 -m pip install --upgrade pip' command.\u001b[0m\u001b[33m\n",
      "\u001b[0m"
     ]
    }
   ],
   "source": [
    "!pip install z3-solver"
   ]
  },
  {
   "cell_type": "code",
   "execution_count": 179,
   "id": "0e3adb34",
   "metadata": {},
   "outputs": [],
   "source": [
    "from z3 import *\n",
    "from itertools import combinations"
   ]
  },
  {
   "cell_type": "code",
   "execution_count": 180,
   "id": "a00c8c81",
   "metadata": {},
   "outputs": [],
   "source": [
    "instances_path = \"../../instances/\"\n",
    "with open(instances_path + \"ins-40.txt\") as f:\n",
    "    lines = [f[:-1] for f in f.readlines()]\n",
    "    w, n = int(lines[0]), int(lines[1])\n",
    "    b = [d.split() for d in lines[2:]]\n",
    "    b = [(int(bw), int(bh)) for (bw, bh) in b]"
   ]
  },
  {
   "cell_type": "markdown",
   "id": "09704bae",
   "metadata": {},
   "source": [
    "### Parameters\n",
    "- $n$ number of blocks\n",
    "- $B_i$, $i = 0, ..., n-1$ blocks to insert where $B_i = \\{x_i, y_i\\}$ are the dimensions of the $i$-block, weight and height respectively\n",
    "- width $w$\n",
    "- ```rot = True``` if rotation is allowed "
   ]
  },
  {
   "cell_type": "markdown",
   "id": "4339f7eb",
   "metadata": {},
   "source": [
    "### Constraints:\n",
    "- The blocks in the grid can't overlap (exactly one value for each cell). $\\sum_{k=0}^{n}(\\texttt{cells}_{i,j,k}) \\leq 1 \\land \\sum_{k=0}^{n}(\\texttt{cells}_{i,j,k}) \\geq 1$ $\\forall i,j=0,...,n-1 $\n",
    "- The cell $\\texttt{cells}_{i, j}$ is the bottom left border of one block and its surrounding cells must have the same $k$ value. Moreover, inserting a block mustn't enlarge the width $w$. $\\texttt{exactly_one} \\Big[ \\huge{\\land_{\\small r=i}^{\\small i+y_k} \\land_{\\small c=j}^{\\small j+x_k}}$ $\\Big( \\texttt{cells}_{r,c,k} \\land (j+x_k<w)  \\land (i+y_k<h) \\Big)$ $\\forall i,j=0,...,n-1 \\Big]$ $\\forall k=0,...,n$"
   ]
  },
  {
   "cell_type": "code",
   "execution_count": 181,
   "id": "d3e86485",
   "metadata": {},
   "outputs": [],
   "source": [
    "def vlsi_sat(n, b, w, rot=False):\n",
    "    # b = (bw, bh)\n",
    "    # left bottom coordinates of each placed block\n",
    "    x = [Int(f\"x_{i}\") for i in range(len(b))]\n",
    "    y = [Int(f\"y_{i}\") for i in range(len(b))]\n",
    "    h = Int(f\"h\")\n",
    "    \n",
    "    o = Optimize()\n",
    "    \n",
    "    # x_i + bw_i < w and y_i + bh_i < h foreach i in [0, ..., len(b)]\n",
    "    # x_i >= 0 and y_i >= 0 foreach i in [0, ..., len(b)]\n",
    "    o.add([And(x[i] >= 0, x[i] + b[i][0] < w,\n",
    "              y[i] >= 0, y[i] + b[i][1] < h) for i in range(len(b))])  \n",
    "    \n",
    "    o.add([Or(\n",
    "            Or(x[i] + b[i][0] <= x[j], x[i] >= x[j] + b[j][0]),\n",
    "            Or(And(y[i] <= y[j], y[i] + b[i][1] <= y[j])))\n",
    "         for (i, j) in combinations(range(len(b)), 2)])\n",
    "    \n",
    "    o.minimize(h)\n",
    "    \n",
    "    o.check()\n",
    "    if o.check() == sat:\n",
    "        m = o.model()\n",
    "        return (m.evaluate(h).as_long(),\n",
    "                [(m.evaluate(x[i]).as_long(), m.evaluate(y[i]).as_long())\n",
    "                for i in range(len(b))])\n",
    "    return \"UNSAT\""
   ]
  },
  {
   "cell_type": "code",
   "execution_count": null,
   "id": "c7ca2bf6",
   "metadata": {},
   "outputs": [],
   "source": [
    "%%time\n",
    "exactly_one = exactly_one_bw\n",
    "h, lfc = vlsi_sat(n, b, w)"
   ]
  },
  {
   "cell_type": "code",
   "execution_count": null,
   "id": "beef1689",
   "metadata": {},
   "outputs": [],
   "source": [
    "import numpy as np\n",
    "import matplotlib.pyplot as plt\n",
    "\n",
    "fig, ax = plt.subplots(figsize=(10, 10))\n",
    "\n",
    "M = np.zeros((h - 1, w - 1))\n",
    "for i, (x, y) in enumerate(lfc):\n",
    "    M[y : y + b[i][1], x : x + b[i][0]] = i\n",
    "    \n",
    "M = np.flip(M)\n",
    "ax.matshow(M);"
   ]
  }
 ],
 "metadata": {
  "kernelspec": {
   "display_name": "Python 3 (ipykernel)",
   "language": "python",
   "name": "python3"
  },
  "language_info": {
   "codemirror_mode": {
    "name": "ipython",
    "version": 3
   },
   "file_extension": ".py",
   "mimetype": "text/x-python",
   "name": "python",
   "nbconvert_exporter": "python",
   "pygments_lexer": "ipython3",
   "version": "3.8.10"
  }
 },
 "nbformat": 4,
 "nbformat_minor": 5
}
