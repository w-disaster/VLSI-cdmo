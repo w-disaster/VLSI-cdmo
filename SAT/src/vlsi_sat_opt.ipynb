{
 "cells": [
  {
   "cell_type": "code",
   "execution_count": 1,
   "id": "eed8ae56",
   "metadata": {},
   "outputs": [],
   "source": [
    "from z3 import *\n",
    "from itertools import combinations"
   ]
  },
  {
   "cell_type": "code",
   "execution_count": 2,
   "id": "b04ab1f0",
   "metadata": {},
   "outputs": [],
   "source": [
    "instances_path = \"../../instances/\"\n",
    "with open(instances_path + \"ins-10.txt\") as f:\n",
    "    lines = [f[:-1] for f in f.readlines()]\n",
    "    w, n = int(lines[0]), int(lines[1])\n",
    "    b = [d.split() for d in lines[2:]]\n",
    "    b = [(int(bw), int(bh)) for (bw, bh) in b]"
   ]
  },
  {
   "cell_type": "code",
   "execution_count": 3,
   "id": "6de2f905",
   "metadata": {},
   "outputs": [],
   "source": [
    "def at_least_one_np(bool_vars):\n",
    "    return Or(bool_vars)\n",
    "\n",
    "def at_most_one_np(bool_vars, name = \"\"):\n",
    "    return [Not(And(pair[0], pair[1])) for pair in combinations(bool_vars, 2)]\n",
    "\n",
    "def exactly_one_np(bool_vars, name = \"\"):\n",
    "    return And(at_least_one_np(bool_vars), And(at_most_one_np(bool_vars, name)))"
   ]
  },
  {
   "cell_type": "code",
   "execution_count": 4,
   "id": "2f771b42",
   "metadata": {},
   "outputs": [],
   "source": [
    "def at_least_one_he(bool_vars):\n",
    "    return at_least_one_np(bool_vars)\n",
    "\n",
    "def at_most_one_he(bool_vars, name):\n",
    "    if len(bool_vars) <= 4:\n",
    "        return And(at_most_one_np(bool_vars))\n",
    "    y = Bool(f\"y_{name}\")\n",
    "    return And(And(at_most_one_np(bool_vars[:3] + [y])), And(at_most_one_he(bool_vars[3:] + [Not(y)], name+\"_\")))\n",
    "\n",
    "def exactly_one_he(bool_vars, name=\"\"):\n",
    "    return And(at_most_one_he(bool_vars, name), at_least_one_he(bool_vars))"
   ]
  },
  {
   "cell_type": "code",
   "execution_count": 5,
   "id": "78f0eb6f",
   "metadata": {},
   "outputs": [],
   "source": [
    "def vlsi_sat(n, b, w, h, rot=False):\n",
    "    cells = [[Int(f\"cells_{i}_{j}\") for j in range(w)] for i in range(h)]\n",
    "    \n",
    "    o = Optimize()\n",
    "    o.add([(cells[i][j] >= 0) for i in range(h) for j in range(w)])\n",
    "    o.minimize(sum([cells[i][j] for i in range(h) for j in range(w)]))\n",
    "    \n",
    "    # Each block must occur exactly once\n",
    "    for k in range(1, n + 1):\n",
    "        (x, y) = b[k - 1]\n",
    "        cnst = []\n",
    "        for i in range(h):\n",
    "            for j in range(w):\n",
    "                if j + x < w and i + y < h:\n",
    "                    block = [cells[r][c] == k\n",
    "                             for r in range(i, i + y) for c in range(j, j + x)]\n",
    "                    cnst.append(And(block))\n",
    "                else:\n",
    "                    cnst.append(False)\n",
    "        o.add(exactly_one([block_and for block_and in cnst]))\n",
    "    \n",
    "    # Check if it's SAT\n",
    "    o.check()\n",
    "    if o.check() == sat:\n",
    "        m = o.model()\n",
    "        #return [(i, j, k) for i in range(h) for j in range(w) \n",
    "        #        for k in range(n + 1) if m.evaluate(cells[i][j][k])]\n",
    "        return o\n",
    "    return \"UNSAT\""
   ]
  },
  {
   "cell_type": "code",
   "execution_count": 6,
   "id": "ba780cbc",
   "metadata": {},
   "outputs": [],
   "source": [
    "h = sum([bh for (bw, bh) in b])"
   ]
  },
  {
   "cell_type": "code",
   "execution_count": null,
   "id": "eaea938e",
   "metadata": {},
   "outputs": [],
   "source": [
    "%%time\n",
    "exactly_one = exactly_one_np\n",
    "sol = vlsi_sat(n, b, w, h)"
   ]
  },
  {
   "cell_type": "code",
   "execution_count": null,
   "id": "5fc79e73",
   "metadata": {},
   "outputs": [],
   "source": [
    "sol"
   ]
  },
  {
   "cell_type": "code",
   "execution_count": null,
   "id": "6970f080",
   "metadata": {},
   "outputs": [],
   "source": []
  }
 ],
 "metadata": {
  "kernelspec": {
   "display_name": "Python 3 (ipykernel)",
   "language": "python",
   "name": "python3"
  },
  "language_info": {
   "codemirror_mode": {
    "name": "ipython",
    "version": 3
   },
   "file_extension": ".py",
   "mimetype": "text/x-python",
   "name": "python",
   "nbconvert_exporter": "python",
   "pygments_lexer": "ipython3",
   "version": "3.8.10"
  }
 },
 "nbformat": 4,
 "nbformat_minor": 5
}
