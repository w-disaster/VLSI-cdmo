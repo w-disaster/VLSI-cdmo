{
 "cells": [
  {
   "cell_type": "code",
   "execution_count": 4,
   "id": "ead0d3e2",
   "metadata": {},
   "outputs": [
    {
     "ename": "SyntaxError",
     "evalue": "invalid syntax (4244145425.py, line 1)",
     "output_type": "error",
     "traceback": [
      "\u001b[0;36m  File \u001b[0;32m\"/tmp/ipykernel_95668/4244145425.py\"\u001b[0;36m, line \u001b[0;32m1\u001b[0m\n\u001b[0;31m    import ...\u001b[0m\n\u001b[0m           ^\u001b[0m\n\u001b[0;31mSyntaxError\u001b[0m\u001b[0;31m:\u001b[0m invalid syntax\n"
     ]
    }
   ],
   "source": [
    "import ..\n",
    "from model.utils import *\n",
    "from VLSI_SAT import *\n",
    "from VLSI_SAT_rot import *\n",
    "from plot_plate import *\n",
    "from time import time"
   ]
  },
  {
   "cell_type": "code",
   "execution_count": null,
   "id": "29b56f1a",
   "metadata": {},
   "outputs": [],
   "source": [
    "def solve_all_instances(solver):\n",
    "    n_instances = 40\n",
    "    # All but the last instance\n",
    "    for i in range(22, n_instances):\n",
    "        plate = instance_to_plate(\"../../../instances/ins-\" + str(i) + \".txt\")\n",
    "        start_time = time()\n",
    "\n",
    "        # Solve VLSI\n",
    "        plate = solver.solve_vlsi(plate)\n",
    "        \n",
    "        print(\"Instance n. {}\".format(i))\n",
    "        print(\"Elapsed time: {}, plate dim (w, h) = ({}, {})\"\n",
    "                    .format(time() - start_time, plate.get_dim()[0], \n",
    "                        plate.get_dim()[1]))\n",
    "        plot_plate(plate)"
   ]
  },
  {
   "cell_type": "code",
   "execution_count": null,
   "id": "b2a08c22",
   "metadata": {},
   "outputs": [],
   "source": [
    "solve_all_instances(VLSI_SAT_rot())"
   ]
  },
  {
   "cell_type": "code",
   "execution_count": null,
   "id": "59ec794d",
   "metadata": {},
   "outputs": [],
   "source": []
  },
  {
   "cell_type": "code",
   "execution_count": null,
   "id": "abceb252",
   "metadata": {},
   "outputs": [],
   "source": []
  }
 ],
 "metadata": {
  "kernelspec": {
   "display_name": "Python 3 (ipykernel)",
   "language": "python",
   "name": "python3"
  },
  "language_info": {
   "codemirror_mode": {
    "name": "ipython",
    "version": 3
   },
   "file_extension": ".py",
   "mimetype": "text/x-python",
   "name": "python",
   "nbconvert_exporter": "python",
   "pygments_lexer": "ipython3",
   "version": "3.8.10"
  }
 },
 "nbformat": 4,
 "nbformat_minor": 5
}
